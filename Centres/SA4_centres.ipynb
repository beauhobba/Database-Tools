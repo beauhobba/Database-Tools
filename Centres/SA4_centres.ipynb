{
 "cells": [
  {
   "attachments": {},
   "cell_type": "markdown",
   "metadata": {},
   "source": [
    "# Mesh Centres"
   ]
  },
  {
   "cell_type": "code",
   "execution_count": 1,
   "metadata": {},
   "outputs": [],
   "source": [
    "import sys\n",
    "import plotly.express as px\n",
    "import pandas as pd\n",
    "import geopandas as gdp\n",
    "from shapely.geometry import Point\n",
    "import numpy as np\n",
    "import matplotlib.pyplot as plt\n",
    "import plotly.graph_objects as go\n",
    "import math\n",
    "import numpy as np\n",
    "import sys\n",
    "sys.path.append('../')\n",
    "from api import MAPBOX_ACCESSTOKEN\n",
    "from Utilities.open_map import mesh_map, regular_map, sa3_map, sa2_map, sa4_map"
   ]
  },
  {
   "cell_type": "code",
   "execution_count": 2,
   "metadata": {},
   "outputs": [],
   "source": [
    "# The mesh map takes a while to load\n",
    "shape_json, shape = sa4_map() \n",
    "lga_json, df_map = regular_map() "
   ]
  },
  {
   "cell_type": "code",
   "execution_count": 3,
   "metadata": {},
   "outputs": [
    {
     "name": "stdout",
     "output_type": "stream",
     "text": [
      "['SA4_CODE21', 'SA4_NAME21', 'CHG_FLAG21', 'CHG_LBL21', 'GCC_CODE21', 'GCC_NAME21', 'STE_CODE21', 'STE_NAME21', 'AUS_CODE21', 'AUS_NAME21', 'AREASQKM21', 'LOCI_URI21', 'geometry']\n"
     ]
    }
   ],
   "source": [
    "print(shape.columns.values.tolist())"
   ]
  },
  {
   "cell_type": "code",
   "execution_count": 4,
   "metadata": {},
   "outputs": [],
   "source": [
    "\n",
    "f = open(\"./SA4_centres.txt\", \"w\", encoding=\"utf-8\")\n",
    "f.write('LATITUDE\\tLONGITUDE\\tLOCI_URI21\\tAUS_CODE21\\tGCC_CODE21\\tGCC_NAME21\\tAUS_NAME21\\tCHG_LBL21\\tCHG_FLAG21\\tSTE_NAME21\\tSTE_CODE21\\tAREASQKM21\\tSA4_CODE21\\tSA4_NAME21\\n')\n",
    "\n",
    "geos = shape['geometry']\n",
    "LOCI = shape['LOCI_URI21']\n",
    "AUS_CODE21 = shape['AUS_CODE21']\n",
    "GCC_CODE = shape['GCC_CODE21']\n",
    "GCC_NAME = shape['GCC_NAME21']\n",
    "AUS_NAME = shape['AUS_NAME21']\n",
    "CHG_LBL = shape['CHG_LBL21']\n",
    "CHG_FLAG = shape['CHG_FLAG21']\n",
    "STE_NAME = shape['STE_NAME21']\n",
    "STE_CODE = shape['STE_CODE21']\n",
    "AREASQK = shape['AREASQKM21']\n",
    "SA4_CODE = shape['SA4_CODE21']\n",
    "SA4_NAME = shape['SA4_NAME21']\n",
    "\n",
    "no_centroids = np.array([])\n",
    "for geo, loci, aus_code, gcc_code, gcc_name, aus_name, chg_lbl, chg_flag, ste_name, ste_code, areasqk, sa4_code, sa4_name in zip(geos, LOCI,AUS_CODE21, GCC_CODE, GCC_NAME, AUS_NAME, CHG_LBL, CHG_FLAG, STE_NAME, STE_CODE, AREASQK, SA4_CODE, SA4_NAME):\n",
    "    try:\n",
    "        centroid = geo.centroid \n",
    "        lat = centroid.y\n",
    "        lon = centroid.x\n",
    "        f.write(f\"{lat}\\t{lon}\\t{loci}\\t{aus_code}\\t{gcc_code}\\t{gcc_name}\\t{aus_name}\\t{chg_lbl}\\t{chg_flag}\\t{ste_name}\\t{ste_code}\\t{areasqk}\\t{sa4_code}\\t{sa4_name}\\n\")\n",
    "    except Exception as ex:\n",
    "        no_centroids = np.append(no_centroids, sa4_name)\n",
    "f.close()\n",
    "\n",
    "# Now write in the values with no centroids\n",
    "f = open(\"./no_sa4_centres.txt\", \"w\", encoding=\"utf-8\")\n",
    "f.write('SA4\\n')\n",
    "for code in no_centroids:\n",
    "    f.write(f\"{code}\\n\")\n",
    "f.close()\n",
    "\n",
    "        \n",
    "    "
   ]
  },
  {
   "cell_type": "code",
   "execution_count": null,
   "metadata": {},
   "outputs": [],
   "source": [
    "sa4 = pd.read_csv(\"./SA4_centres.txt\",\n",
    "                             sep='\\\\t',\n",
    "            encoding='unicode_escape',\n",
    "            engine='python')\n",
    "\n",
    "# GHet the mesh centroids \n",
    "sa4_centres_latitudes = np.array(sa4['LATITUDE'])\n",
    "sa4_centres_longitudes = np.array(sa4['LONGITUDE'])\n",
    "sa4_centre_names = np.array(sa4['SA3_CODE21'])\n",
    "sa4_centre_codes = np.array(sa4['STE_CODE21'])\n",
    "\n",
    "\n",
    "\n",
    "# Map the regular map \n",
    "trace1 =  px.choropleth_mapbox(geojson=lga_json, locations =df_map.index, mapbox_style='light')\n",
    "\n",
    "# Create a map of centroids \n",
    "trace1.add_trace(go.Scattermapbox(lat=sa4_centres_latitudes,lon=sa4_centres_longitudes, name='Mesh Centroids',  mode='markers', marker=go.scattermapbox.Marker(size=5, color='red'), text=sa4_centre_names\n",
    "))\n",
    "\n",
    "\n",
    "trace1.update_layout(\n",
    "    title={'text': f\"NSW\",\n",
    "        'font': {'size': 24}},\n",
    "    mapbox=dict(\n",
    "        center=dict(lat=-33.8603, lon=151.0236),\n",
    "        accesstoken=MAPBOX_ACCESSTOKEN,\n",
    "        zoom=9.5,\n",
    "    ),\n",
    "    autosize=True,\n",
    "    height=650,\n",
    "    margin=dict(l=0, r=0, t=40, b=0),\n",
    "    legend=dict(\n",
    "        bgcolor='rgba(255, 255, 255, 0.7)',\n",
    "        bordercolor='rgba(0, 0, 0, 0.2)',\n",
    "        borderwidth=1,\n",
    "        x=0,\n",
    "        y=1,\n",
    "        orientation='v'\n",
    "    ))\n",
    "\n",
    "\n",
    "\n"
   ]
  }
 ],
 "metadata": {
  "kernelspec": {
   "display_name": "Python 3",
   "language": "python",
   "name": "python3"
  },
  "language_info": {
   "codemirror_mode": {
    "name": "ipython",
    "version": 3
   },
   "file_extension": ".py",
   "mimetype": "text/x-python",
   "name": "python",
   "nbconvert_exporter": "python",
   "pygments_lexer": "ipython3",
   "version": "3.9.0"
  },
  "orig_nbformat": 4
 },
 "nbformat": 4,
 "nbformat_minor": 2
}
