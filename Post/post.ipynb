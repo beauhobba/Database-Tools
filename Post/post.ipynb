{
 "cells": [
  {
   "cell_type": "code",
   "execution_count": 2,
   "metadata": {},
   "outputs": [],
   "source": [
    "import sys\n",
    "import plotly.express as px\n",
    "import pandas as pd\n",
    "import geopandas as gdp\n",
    "from shapely.geometry import Point\n",
    "import numpy as np\n",
    "import matplotlib.pyplot as plt\n",
    "import plotly.graph_objects as go\n",
    "import math\n",
    "import numpy as np\n",
    "import sys\n",
    "sys.path.append('../')\n",
    "from api import MAPBOX_ACCESSTOKEN\n",
    "from Utilities.open_map import mesh_map, poa_map"
   ]
  },
  {
   "cell_type": "code",
   "execution_count": 4,
   "metadata": {},
   "outputs": [],
   "source": [
    "# The mesh map takes a while to load\n",
    "shape_json, shape = poa_map() "
   ]
  },
  {
   "cell_type": "code",
   "execution_count": null,
   "metadata": {},
   "outputs": [],
   "source": [
    "print(shape)"
   ]
  },
  {
   "cell_type": "code",
   "execution_count": 25,
   "metadata": {},
   "outputs": [
    {
     "name": "stdout",
     "output_type": "stream",
     "text": [
      "'NoneType' object has no attribute 'centroid'\n",
      "'NoneType' object has no attribute 'centroid'\n",
      "'NoneType' object has no attribute 'centroid'\n"
     ]
    }
   ],
   "source": [
    "headers = ['POA_CODE21', 'POA_NAME21', 'AUS_CODE21', 'AUS_NAME21', 'AREASQKM21', 'LOCI_URI21', 'SHAPE_Leng', 'SHAPE_Area', 'geometry']\n",
    "\n",
    "f = open(\"./post_codes_latitude_longitude.txt\", \"w\", encoding=\"utf-8\")\n",
    "\n",
    "for header in headers:\n",
    "    f.write(header+\"\\t\")\n",
    "f.write('LATITUDE\\tLONGITUDE\\n')\n",
    "\n",
    "\n",
    "no_centroids = np.array([])\n",
    "\n",
    "for idx, row in shape.iterrows():\n",
    "    try:\n",
    "        centroid = row['geometry'].centroid\n",
    "        lat = centroid.y\n",
    "        lon = centroid.x \n",
    "        wrt_str = \"\"\n",
    "        for header in headers:\n",
    "            if header == 'geometry':\n",
    "                # input('1')\n",
    "                # input(row['geometry'])\n",
    "                centroid = row['geometry'].centroid\n",
    "                lat = centroid.y\n",
    "                lon = centroid.x \n",
    "                wrt_str += f\"{lat}\\t{lon}\"\n",
    "            else:\n",
    "                wrt_str += str(row[header])+\"\\t\"\n",
    "            \n",
    "        f.write(f\"{wrt_str}\\n\")\n",
    "    except Exception as ex:\n",
    "        print(ex)\n",
    "        name = row['POA_NAME21']\n",
    "        no_centroids = np.append(no_centroids, name)\n",
    "f.close()\n",
    "\n",
    "    \n",
    "f = open(\"./no_postcode_latitude_longitude.txt\", \"w\", encoding=\"utf-8\")\n",
    "f.write('POA_CODE21\\n')\n",
    "for code in no_centroids:\n",
    "    f.write(f\"{code}\\n\")\n",
    "f.close()\n",
    "\n",
    "        "
   ]
  }
 ],
 "metadata": {
  "kernelspec": {
   "display_name": "Python 3",
   "language": "python",
   "name": "python3"
  },
  "language_info": {
   "codemirror_mode": {
    "name": "ipython",
    "version": 3
   },
   "file_extension": ".py",
   "mimetype": "text/x-python",
   "name": "python",
   "nbconvert_exporter": "python",
   "pygments_lexer": "ipython3",
   "version": "3.9.0"
  },
  "orig_nbformat": 4
 },
 "nbformat": 4,
 "nbformat_minor": 2
}
